{
 "cells": [
  {
   "cell_type": "markdown",
   "id": "4b384321-90d3-4f1e-b2a3-bcd331d14df2",
   "metadata": {},
   "source": [
    "**DS105M 2022 Week08**\n",
    "\n",
    "**Topic:** (Re-)shaping data, data normalisation & databases\n",
    "\n",
    "**Author:** [@jonjoncardoso](github.com/jonjoncardoso)\n",
    "\n",
    "**Date:** 15 November 2022\n",
    "\n",
    "---"
   ]
  },
  {
   "cell_type": "markdown",
   "id": "101d3bd4-751c-4026-bab0-75993f22448d",
   "metadata": {},
   "source": [
    "# Setup\n",
    "\n",
    "You might need to open the **terminal** to install packages if an `import` does not work."
   ]
  },
  {
   "cell_type": "markdown",
   "id": "cdde6cd2-217e-4ac5-a357-fab0d1538e49",
   "metadata": {},
   "source": [
    "**Install Plotnine:**"
   ]
  },
  {
   "cell_type": "code",
   "execution_count": null,
   "id": "b3233426-acdb-4c26-8cd8-757ac9ed6dbe",
   "metadata": {},
   "outputs": [],
   "source": [
    "!pip install plotnine"
   ]
  },
  {
   "cell_type": "markdown",
   "id": "a5a804aa-df39-403c-8621-1a3ab74750bd",
   "metadata": {},
   "source": [
    "**💡 Tip:** Enable\"Toogle Auto-Numbering\" on the left-side corner of Jupyter Lab user interface."
   ]
  },
  {
   "attachments": {
    "08ddda73-d7e3-493f-bb20-fd546ab1204a.png": {
     "image/png": "[encoded data removed]"
    }
   },
   "cell_type": "markdown",
   "id": "aadbadbf-7bc6-4541-b767-5ae422ca2636",
   "metadata": {},
   "source": [
    "![image.png](attachment:08ddda73-d7e3-493f-bb20-fd546ab1204a.png)\n"
   ]
  },
  {
   "cell_type": "markdown",
   "id": "521c4aee-9f2b-4132-b624-73c0554971fe",
   "metadata": {},
   "source": [
    "# Import packages"
   ]
  },
  {
   "cell_type": "code",
   "execution_count": 2,
   "id": "5ea14f3b-6c61-4c77-a336-4603da8b081e",
   "metadata": {},
   "outputs": [],
   "source": [
    "import numpy as np\n",
    "import pandas as pd\n",
    "\n",
    "# Importing plotnine like this will make your life easier\n",
    "from plotnine import *"
   ]
  },
  {
   "cell_type": "markdown",
   "id": "328f25a3-bfa2-49f5-8bc0-15f38ea65f36",
   "metadata": {},
   "source": [
    "# Data Pre-processing"
   ]
  },
  {
   "cell_type": "code",
   "execution_count": null,
   "id": "58705795-d6fd-42f4-aa9e-f120f7a0b8df",
   "metadata": {},
   "outputs": [],
   "source": []
  }
 ],
 "metadata": {
  "kernelspec": {
   "display_name": "Python 3 (ipykernel)",
   "language": "python",
   "name": "python3"
  },
  "language_info": {
   "codemirror_mode": {
    "name": "ipython",
    "version": 3
   },
   "file_extension": ".py",
   "mimetype": "text/x-python",
   "name": "python",
   "nbconvert_exporter": "python",
   "pygments_lexer": "ipython3",
   "version": "3.9.12"
  },
  "toc-autonumbering": true
 },
 "nbformat": 4,
 "nbformat_minor": 5
}
