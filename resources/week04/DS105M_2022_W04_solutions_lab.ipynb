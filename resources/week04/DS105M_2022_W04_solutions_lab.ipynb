{
 "cells": [
  {
   "cell_type": "markdown",
   "id": "b1967340-9866-40ba-80d1-b01334d4923c",
   "metadata": {},
   "source": [
    "**LSE DATA SCIENCE INSTITUTE** \n",
    "\n",
    "\n",
    "[DS105M](https://lse-dsi.github.io/lse-ds105-course-notes/) | **Week 04 - Lab Solutions (90 min)**\n",
    "\n",
    "---\n",
    "\n",
    "\n",
    "\n",
    "🎯 **OBJECTIVE:** Learn how to collect data from the Web using Python packages\n",
    "\n",
    "👨‍💻 **AUTHORS:** [@antonboychenko](https://github.com/antonboychenko), [@jonjoncardoso](https://github.com/jonjoncardoso)\n",
    "\n",
    "📅 **LAST UPDATED:** 09 January 2023\n",
    "\n",
    "\n",
    "---\n"
   ]
  },
  {
   "cell_type": "markdown",
   "id": "4a32f645-1a57-4cb2-9638-7b12ba5beb01",
   "metadata": {},
   "source": [
    "## Part 1: Exploring CIVICA"
   ]
  },
  {
   "cell_type": "code",
   "execution_count": 23,
   "id": "45145816-d906-40b1-8ce2-7c1c6df83c54",
   "metadata": {},
   "outputs": [],
   "source": [
    "# importing the libraries we need\n",
    "import requests\n",
    "from bs4 import BeautifulSoup"
   ]
  },
  {
   "cell_type": "code",
   "execution_count": 24,
   "id": "1d13af49-1741-4c63-aa54-186aa5531c7d",
   "metadata": {},
   "outputs": [
    {
     "name": "stdout",
     "output_type": "stream",
     "text": [
      "<Response [200]>\n"
     ]
    }
   ],
   "source": [
    "# sending a GET request\n",
    "response = requests.get('https://socialdatascience.network/index.html#schedule')\n",
    "print(response)"
   ]
  },
  {
   "cell_type": "code",
   "execution_count": 25,
   "id": "ecbeed42-89a3-4f16-b3a6-3964951d7310",
   "metadata": {},
   "outputs": [],
   "source": [
    "# parse the HTML code using Beautiful Soup\n",
    "soup = BeautifulSoup(response.text)"
   ]
  },
  {
   "cell_type": "code",
   "execution_count": 33,
   "id": "4ec883cf-ddfc-4c64-b5b0-d6835c6b562c",
   "metadata": {},
   "outputs": [],
   "source": [
    "# creating empty lists to store data\n",
    "links = []\n",
    "events = []\n",
    "speakers = []\n",
    "dates = []  \n",
    "\n",
    "# extracting all the tags that contain separate event cards\n",
    "event_cards = soup.find_all('div', attrs={'class':\"card mb-4\"})\n",
    "\n",
    "# iterating through cards to find the information we need\n",
    "for card in event_cards:\n",
    "    \n",
    "    # get links, event names, speakers and dates\n",
    "    link = 'https://socialdatascience.network/' + card.find('a').get('href')\n",
    "    event = card.find('h6').get_text()\n",
    "    name_and_date = card.find('p').get_text()\n",
    "    \n",
    "    # cleaning the name of the speaker\n",
    "    speaker_name = name_and_date.split('Date')[0].replace('Speaker: ', '').strip()\n",
    "    \n",
    "    # cleaning the date\n",
    "    date = name_and_date.split('Date')[1].replace(': ', '').strip()\n",
    "    \n",
    "    # for each event appending to the appropriate list\n",
    "    links.append(link)\n",
    "    events.append(event)\n",
    "    speakers.append(speaker_name)\n",
    "    dates.append(date)"
   ]
  },
  {
   "cell_type": "markdown",
   "id": "00de3c4a-cd9b-46cd-917f-1f84ad814a03",
   "metadata": {},
   "source": [
    "## Part 2: Let's make a dataframe"
   ]
  },
  {
   "cell_type": "code",
   "execution_count": 34,
   "id": "fe2021a5-d36e-4611-a286-4f1898c22cad",
   "metadata": {},
   "outputs": [
    {
     "data": {
      "text/html": [
       "<div>\n",
       "<style scoped>\n",
       "    .dataframe tbody tr th:only-of-type {\n",
       "        vertical-align: middle;\n",
       "    }\n",
       "\n",
       "    .dataframe tbody tr th {\n",
       "        vertical-align: top;\n",
       "    }\n",
       "\n",
       "    .dataframe thead th {\n",
       "        text-align: right;\n",
       "    }\n",
       "</style>\n",
       "<table border=\"1\" class=\"dataframe\">\n",
       "  <thead>\n",
       "    <tr style=\"text-align: right;\">\n",
       "      <th></th>\n",
       "      <th>name</th>\n",
       "      <th>speaker</th>\n",
       "      <th>date</th>\n",
       "      <th>link</th>\n",
       "    </tr>\n",
       "  </thead>\n",
       "  <tbody>\n",
       "    <tr>\n",
       "      <th>0</th>\n",
       "      <td>Introducing the Online Harms Observatory: AI p...</td>\n",
       "      <td>Pica Johnsson</td>\n",
       "      <td>Wednesday, 11 January 2023</td>\n",
       "      <td>https://socialdatascience.network/spring2023/s...</td>\n",
       "    </tr>\n",
       "    <tr>\n",
       "      <th>1</th>\n",
       "      <td>Using Open Source Data Streams and Surveys to ...</td>\n",
       "      <td>Prof. Lisa Singh</td>\n",
       "      <td>Wednesday, 02 November 2022</td>\n",
       "      <td>https://socialdatascience.network/fall2022/ses...</td>\n",
       "    </tr>\n",
       "    <tr>\n",
       "      <th>2</th>\n",
       "      <td>Does Epistemic Vice Explain Corporate Misconduct?</td>\n",
       "      <td>Dr. Marco Meyer</td>\n",
       "      <td>Wednesday, 19 October 2022</td>\n",
       "      <td>https://socialdatascience.network/fall2022/ses...</td>\n",
       "    </tr>\n",
       "    <tr>\n",
       "      <th>3</th>\n",
       "      <td>Becoming a data scientist: what it means to pu...</td>\n",
       "      <td>Prof. Anne Beaulieu</td>\n",
       "      <td>Wednesday, 14 September 2022</td>\n",
       "      <td>https://socialdatascience.network/spring2022/s...</td>\n",
       "    </tr>\n",
       "    <tr>\n",
       "      <th>4</th>\n",
       "      <td>The Making of a French Migration Crisis</td>\n",
       "      <td>Dr. Michelle Reddy &amp; Dr. Hélène Thiollet</td>\n",
       "      <td>Wednesday, 15 June 2022</td>\n",
       "      <td>https://socialdatascience.network/spring2022/s...</td>\n",
       "    </tr>\n",
       "  </tbody>\n",
       "</table>\n",
       "</div>"
      ],
      "text/plain": [
       "                                                name  \\\n",
       "0  Introducing the Online Harms Observatory: AI p...   \n",
       "1  Using Open Source Data Streams and Surveys to ...   \n",
       "2  Does Epistemic Vice Explain Corporate Misconduct?   \n",
       "3  Becoming a data scientist: what it means to pu...   \n",
       "4            The Making of a French Migration Crisis   \n",
       "\n",
       "                                    speaker                          date  \\\n",
       "0                             Pica Johnsson    Wednesday, 11 January 2023   \n",
       "1                          Prof. Lisa Singh   Wednesday, 02 November 2022   \n",
       "2                           Dr. Marco Meyer    Wednesday, 19 October 2022   \n",
       "3                       Prof. Anne Beaulieu  Wednesday, 14 September 2022   \n",
       "4  Dr. Michelle Reddy & Dr. Hélène Thiollet       Wednesday, 15 June 2022   \n",
       "\n",
       "                                                link  \n",
       "0  https://socialdatascience.network/spring2023/s...  \n",
       "1  https://socialdatascience.network/fall2022/ses...  \n",
       "2  https://socialdatascience.network/fall2022/ses...  \n",
       "3  https://socialdatascience.network/spring2022/s...  \n",
       "4  https://socialdatascience.network/spring2022/s...  "
      ]
     },
     "execution_count": 34,
     "metadata": {},
     "output_type": "execute_result"
    }
   ],
   "source": [
    "# import pandas \n",
    "import pandas as pd\n",
    "\n",
    "# create a dataframe and populate with information collected\n",
    "CIVICA_df = pd.DataFrame({'name': events,\n",
    "                         'speaker': speakers,\n",
    "                         'date': dates,\n",
    "                         'link': links})\n",
    "\n",
    "\n",
    "# checking if the dataframe created correctly\n",
    "CIVICA_df.head()"
   ]
  },
  {
   "cell_type": "code",
   "execution_count": null,
   "id": "fea7fd34-d63d-4b82-8f6d-3333a00021db",
   "metadata": {},
   "outputs": [],
   "source": [
    "# save the dataframe as CSV\n",
    "CIVICA_df.to_csv('CIVICA_seminars.csv')"
   ]
  },
  {
   "cell_type": "markdown",
   "id": "48e0064b-b214-47c7-8119-5a978450a39f",
   "metadata": {},
   "source": [
    "## Bonus task: Tell me more"
   ]
  },
  {
   "cell_type": "code",
   "execution_count": 52,
   "id": "91c506f7-975a-4433-93b5-860abc2c3f52",
   "metadata": {},
   "outputs": [],
   "source": [
    "# create an empty list to store bios\n",
    "bios = []\n",
    "\n",
    "# itrerate through all links that were saved before\n",
    "for link in CIVICA_df['link']:\n",
    "    \n",
    "    try:\n",
    "        # GET a response\n",
    "        response = requests.get(link)\n",
    "\n",
    "        # parse HTML\n",
    "        soup = BeautifulSoup(response.text)\n",
    "\n",
    "        # get the bio of the speaker\n",
    "        bio = soup.find('p', attrs={'class':'card-text'}).get_text()\n",
    "\n",
    "        # add bio to the list\n",
    "        bios.append(bio)\n",
    "        \n",
    "    except:\n",
    "        # in case the link is flawed append this\n",
    "        bios.append('No response')"
   ]
  },
  {
   "cell_type": "code",
   "execution_count": 54,
   "id": "c5cb7cdd-8687-4c22-9ffe-0d82c595a175",
   "metadata": {},
   "outputs": [
    {
     "data": {
      "text/html": [
       "<div>\n",
       "<style scoped>\n",
       "    .dataframe tbody tr th:only-of-type {\n",
       "        vertical-align: middle;\n",
       "    }\n",
       "\n",
       "    .dataframe tbody tr th {\n",
       "        vertical-align: top;\n",
       "    }\n",
       "\n",
       "    .dataframe thead th {\n",
       "        text-align: right;\n",
       "    }\n",
       "</style>\n",
       "<table border=\"1\" class=\"dataframe\">\n",
       "  <thead>\n",
       "    <tr style=\"text-align: right;\">\n",
       "      <th></th>\n",
       "      <th>name</th>\n",
       "      <th>speaker</th>\n",
       "      <th>date</th>\n",
       "      <th>link</th>\n",
       "      <th>speaker_bio</th>\n",
       "    </tr>\n",
       "  </thead>\n",
       "  <tbody>\n",
       "    <tr>\n",
       "      <th>0</th>\n",
       "      <td>Introducing the Online Harms Observatory: AI p...</td>\n",
       "      <td>Pica Johnsson</td>\n",
       "      <td>Wednesday, 11 January 2023</td>\n",
       "      <td>https://socialdatascience.network/spring2023/s...</td>\n",
       "      <td>Pica is a researcher on the Online Safety Team...</td>\n",
       "    </tr>\n",
       "    <tr>\n",
       "      <th>1</th>\n",
       "      <td>Using Open Source Data Streams and Surveys to ...</td>\n",
       "      <td>Prof. Lisa Singh</td>\n",
       "      <td>Wednesday, 02 November 2022</td>\n",
       "      <td>https://socialdatascience.network/fall2022/ses...</td>\n",
       "      <td>Lisa Singh is the Director of the Massive Data...</td>\n",
       "    </tr>\n",
       "    <tr>\n",
       "      <th>2</th>\n",
       "      <td>Does Epistemic Vice Explain Corporate Misconduct?</td>\n",
       "      <td>Dr. Marco Meyer</td>\n",
       "      <td>Wednesday, 19 October 2022</td>\n",
       "      <td>https://socialdatascience.network/fall2022/ses...</td>\n",
       "      <td>Dr. Marco Meyer is the principal investigator ...</td>\n",
       "    </tr>\n",
       "    <tr>\n",
       "      <th>3</th>\n",
       "      <td>Becoming a data scientist: what it means to pu...</td>\n",
       "      <td>Prof. Anne Beaulieu</td>\n",
       "      <td>Wednesday, 14 September 2022</td>\n",
       "      <td>https://socialdatascience.network/spring2022/s...</td>\n",
       "      <td>Prof. Anne Beaulieu holds the Aletta Jacobs Ch...</td>\n",
       "    </tr>\n",
       "    <tr>\n",
       "      <th>4</th>\n",
       "      <td>The Making of a French Migration Crisis</td>\n",
       "      <td>Dr. Michelle Reddy &amp; Dr. Hélène Thiollet</td>\n",
       "      <td>Wednesday, 15 June 2022</td>\n",
       "      <td>https://socialdatascience.network/spring2022/s...</td>\n",
       "      <td>Michelle Reddy is a Postdoctoral Scholar at CE...</td>\n",
       "    </tr>\n",
       "  </tbody>\n",
       "</table>\n",
       "</div>"
      ],
      "text/plain": [
       "                                                name  \\\n",
       "0  Introducing the Online Harms Observatory: AI p...   \n",
       "1  Using Open Source Data Streams and Surveys to ...   \n",
       "2  Does Epistemic Vice Explain Corporate Misconduct?   \n",
       "3  Becoming a data scientist: what it means to pu...   \n",
       "4            The Making of a French Migration Crisis   \n",
       "\n",
       "                                    speaker                          date  \\\n",
       "0                             Pica Johnsson    Wednesday, 11 January 2023   \n",
       "1                          Prof. Lisa Singh   Wednesday, 02 November 2022   \n",
       "2                           Dr. Marco Meyer    Wednesday, 19 October 2022   \n",
       "3                       Prof. Anne Beaulieu  Wednesday, 14 September 2022   \n",
       "4  Dr. Michelle Reddy & Dr. Hélène Thiollet       Wednesday, 15 June 2022   \n",
       "\n",
       "                                                link  \\\n",
       "0  https://socialdatascience.network/spring2023/s...   \n",
       "1  https://socialdatascience.network/fall2022/ses...   \n",
       "2  https://socialdatascience.network/fall2022/ses...   \n",
       "3  https://socialdatascience.network/spring2022/s...   \n",
       "4  https://socialdatascience.network/spring2022/s...   \n",
       "\n",
       "                                         speaker_bio  \n",
       "0  Pica is a researcher on the Online Safety Team...  \n",
       "1  Lisa Singh is the Director of the Massive Data...  \n",
       "2  Dr. Marco Meyer is the principal investigator ...  \n",
       "3  Prof. Anne Beaulieu holds the Aletta Jacobs Ch...  \n",
       "4  Michelle Reddy is a Postdoctoral Scholar at CE...  "
      ]
     },
     "execution_count": 54,
     "metadata": {},
     "output_type": "execute_result"
    }
   ],
   "source": [
    "# adding bios to the dataframe\n",
    "CIVICA_df['speaker_bio'] = bios\n",
    "\n",
    "# checking the dataframe\n",
    "CIVICA_df.head()"
   ]
  },
  {
   "cell_type": "code",
   "execution_count": null,
   "id": "764797ec-0ce9-4264-bdb9-f26a5be040f7",
   "metadata": {},
   "outputs": [],
   "source": []
  }
 ],
 "metadata": {
  "kernelspec": {
   "display_name": "Python 3 (ipykernel)",
   "language": "python",
   "name": "python3"
  },
  "language_info": {
   "codemirror_mode": {
    "name": "ipython",
    "version": 3
   },
   "file_extension": ".py",
   "mimetype": "text/x-python",
   "name": "python",
   "nbconvert_exporter": "python",
   "pygments_lexer": "ipython3",
   "version": "3.9.12"
  }
 },
 "nbformat": 4,
 "nbformat_minor": 5
}
