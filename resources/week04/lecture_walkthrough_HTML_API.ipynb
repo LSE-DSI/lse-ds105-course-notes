{
 "cells": [
  {
   "cell_type": "markdown",
   "id": "8bd4aa48-8964-4ddd-9d2b-4e5e10ae40b3",
   "metadata": {},
   "source": [
    "\n",
    "# Week 05 - Lecture Walkthrough (45 min)\n",
    "\n",
    "In this part of the lecture, we will explore how to acquire information from web-pages using the `requests` library in Python. \n",
    "\n",
    "We will work with both HTML and APIs. \n",
    "\n",
    "The HTML part will consist of the following steps:\n",
    "\n",
    "1. Getting a response from a web page\n",
    "2. Parsing the response\n",
    "3. Navigating the HTML code\n",
    "4. Extracting information\n",
    "\n",
    "The API part will imply creating different requests. \n",
    "\n",
    "## HTML\n",
    "\n",
    "1. Let's get to [Google's Key ML Terminology site](https://developers.google.com/machine-learning/crash-course/framing/ml-terminology) and explore the response of the server using the **Inspect element** functionality. \n",
    "2. Change some HTML information. For instance, change the name of the heading. "
   ]
  },
  {
   "cell_type": "markdown",
   "id": "fcf695af-6b64-4455-b74e-bf7d24792f4c",
   "metadata": {},
   "source": [
    "## Sending a response"
   ]
  },
  {
   "cell_type": "code",
   "execution_count": 2,
   "id": "56523a25-623b-41f1-ad39-72cfe8852762",
   "metadata": {},
   "outputs": [],
   "source": [
    "# importing required packages \n",
    "import requests \n",
    "from bs4 import BeautifulSoup"
   ]
  },
  {
   "cell_type": "code",
   "execution_count": 49,
   "id": "4e1fdcdb-caee-4816-9a7d-ea35b5d2490c",
   "metadata": {},
   "outputs": [
    {
     "name": "stdout",
     "output_type": "stream",
     "text": [
      "<Response [200]>\n"
     ]
    }
   ],
   "source": [
    "# sending a reuqets to a web-site\n",
    "response_google = requests.get('https://developers.google.com/machine-learning/crash-course/framing/ml-terminology')\n",
    "\n",
    "# printing the response \n",
    "print(response_google)"
   ]
  },
  {
   "cell_type": "markdown",
   "id": "3d120382-b551-4d7b-9e40-b8c7b5309573",
   "metadata": {},
   "source": [
    "### Other possible responses\n",
    "**200** OK  \n",
    "**204** No Content  \n",
    "**400** Bad Request  \n",
    "**401** Unauthorized  \n",
    "**402** Payment Required   \n",
    "**403** Forbidden  \n",
    "**404** Not Found  \n",
    "**500** Internal Server Error  \n",
    "**502** Bad Gateway  "
   ]
  },
  {
   "cell_type": "markdown",
   "id": "65a9f573-aa4d-468b-85e9-6cc27d0d7401",
   "metadata": {},
   "source": [
    "---\n",
    "\n",
    "Let's try to get to week 12 for our course!"
   ]
  },
  {
   "cell_type": "code",
   "execution_count": 22,
   "id": "2222c1b4-f698-4414-b037-2d3981a3032b",
   "metadata": {},
   "outputs": [
    {
     "name": "stdout",
     "output_type": "stream",
     "text": [
      "<Response [404]>\n"
     ]
    }
   ],
   "source": [
    "# sending a reuqets to a web-site\n",
    "response_not_found = requests.get('https://lse-dsi.github.io/lse-ds105-course-notes/weeks/week12.html')\n",
    "\n",
    "# printing the response \n",
    "print(response_not_found)"
   ]
  },
  {
   "cell_type": "markdown",
   "id": "30a31638-c5dd-437e-b2b0-dc4863cebc5b",
   "metadata": {},
   "source": [
    "---\n",
    "Let's go back to our Google example and explore the headers.\n",
    "\n",
    "---"
   ]
  },
  {
   "cell_type": "code",
   "execution_count": 50,
   "id": "62f54d6e-79e4-422b-9376-986d06d2476a",
   "metadata": {},
   "outputs": [
    {
     "name": "stdout",
     "output_type": "stream",
     "text": [
      "{'Last-Modified': 'Mon, 18 Jul 2022 20:59:31 GMT', 'Content-Type': 'text/html; charset=utf-8', 'Set-Cookie': '_ga_devsite=GA1.3.456951144.1665757388; Expires=Sun, 13 Oct 2024 14:23:08 GMT; Max-Age=63072000; Path=/', 'Content-Security-Policy': \"base-uri 'self'; object-src 'none'; script-src 'strict-dynamic' 'unsafe-inline' https: http: 'nonce-UqNFxTjmFnYkDKoNFJOdeLOmN5qwUh' 'unsafe-eval'; report-uri https://csp.withgoogle.com/csp/devsite/v2\", 'Strict-Transport-Security': 'max-age=63072000; includeSubdomains; preload', 'X-Frame-Options': 'SAMEORIGIN', 'X-XSS-Protection': '0', 'X-Content-Type-Options': 'nosniff', 'Cache-Control': 'no-cache, must-revalidate', 'Expires': '0', 'Pragma': 'no-cache', 'Content-Encoding': 'gzip', 'X-Cloud-Trace-Context': '23b2c0b512875725bf483e2d6696b581', 'Vary': 'Accept-Encoding', 'Date': 'Fri, 14 Oct 2022 14:23:08 GMT', 'Server': 'Google Frontend', 'Alt-Svc': 'h3=\":443\"; ma=2592000,h3-29=\":443\"; ma=2592000,h3-Q050=\":443\"; ma=2592000,h3-Q046=\":443\"; ma=2592000,h3-Q043=\":443\"; ma=2592000,quic=\":443\"; ma=2592000; v=\"46,43\"', 'Transfer-Encoding': 'chunked'}\n",
      "https://developers.google.com/machine-learning/crash-course/framing/ml-terminology\n"
     ]
    }
   ],
   "source": [
    "# looking inside the response\n",
    "print(response_google.headers)\n",
    "\n",
    "print(response_google.url)"
   ]
  },
  {
   "cell_type": "markdown",
   "id": "f710331b-b898-444e-8e83-c9ea2340d9ab",
   "metadata": {},
   "source": [
    "## Parsing the response"
   ]
  },
  {
   "cell_type": "code",
   "execution_count": null,
   "id": "f416ae3d-ce3c-4a9f-925c-15bc5bd9be21",
   "metadata": {},
   "outputs": [],
   "source": [
    "# parsing the response\n",
    "soup = BeautifulSoup(response_google.content)\n",
    "\n",
    "# looking inside the soup (RETURNS A VERY LARGE TEXT)\n",
    "soup"
   ]
  },
  {
   "cell_type": "markdown",
   "id": "02173568-5d1f-4785-8e58-64ea0babf0f7",
   "metadata": {},
   "source": [
    "## Extract one `<h2>` header"
   ]
  },
  {
   "cell_type": "code",
   "execution_count": 54,
   "id": "74c391d2-d21f-4fcc-9d92-01e566b2b6b7",
   "metadata": {},
   "outputs": [
    {
     "name": "stdout",
     "output_type": "stream",
     "text": [
      "<h2 class=\"hide-from-toc\" data-text=\"Labels\" id=\"labels\">Labels</h2>\n"
     ]
    }
   ],
   "source": [
    "# extract the first h2 header\n",
    "print(soup.find('h2'))"
   ]
  },
  {
   "cell_type": "code",
   "execution_count": 55,
   "id": "91d0416d-36f6-41a1-bf58-14c9f5735a5f",
   "metadata": {},
   "outputs": [
    {
     "name": "stdout",
     "output_type": "stream",
     "text": [
      "Labels\n"
     ]
    }
   ],
   "source": [
    "# get text from it\n",
    "print(soup.find('h2').get_text())"
   ]
  },
  {
   "cell_type": "markdown",
   "id": "72b1c871-a71c-447b-9a67-01ed1b363d30",
   "metadata": {},
   "source": [
    "## Extract all the `<h2>` headers"
   ]
  },
  {
   "cell_type": "code",
   "execution_count": 63,
   "id": "4638b1cd-2417-4231-803f-09d6d82b83b7",
   "metadata": {},
   "outputs": [
    {
     "name": "stdout",
     "output_type": "stream",
     "text": [
      "[<h2 class=\"hide-from-toc\" data-text=\"Labels\" id=\"labels\">Labels</h2>, <h2 class=\"hide-from-toc\" data-text=\"Features\" id=\"features\">Features</h2>, <h2 class=\"hide-from-toc\" data-text=\" Examples\" id=\"examples\"> Examples</h2>, <h2 class=\"hide-from-toc\" data-text=\" Models\" id=\"models\"> Models</h2>, <h2 class=\"hide-from-toc\" data-text=\" Regression vs. classification\" id=\"regression-vs.-classification\"> Regression vs. classification</h2>]\n"
     ]
    }
   ],
   "source": [
    "# extract all h2 headers\n",
    "print(soup.find_all('h2'))"
   ]
  },
  {
   "cell_type": "code",
   "execution_count": 65,
   "id": "8c4e3506-b8ee-430b-8dff-8a7213830845",
   "metadata": {},
   "outputs": [
    {
     "name": "stdout",
     "output_type": "stream",
     "text": [
      "Labels\n",
      "Features\n",
      "Examples\n",
      "Models\n",
      "Regression vs. classification\n"
     ]
    }
   ],
   "source": [
    "# extract text from each of them\n",
    "headers = soup.find_all('h2')\n",
    "\n",
    "for head in headers:\n",
    "    print(head.get_text().strip())"
   ]
  },
  {
   "cell_type": "markdown",
   "id": "5f6607d8-55d7-4054-a018-344af62e1ad7",
   "metadata": {},
   "source": [
    "## Extracting other attributes\n",
    "\n",
    "Let's extract links to key terms at the bottom of the page"
   ]
  },
  {
   "cell_type": "code",
   "execution_count": 75,
   "id": "680b9287-7c5c-4955-a0b6-e04c51361f3d",
   "metadata": {},
   "outputs": [
    {
     "data": {
      "text/plain": [
       "[<a href=\"/machine-learning/glossary#classification_model\" target=\"G\">classification model</a>,\n",
       " <a href=\"/machine-learning/glossary#example\" target=\"G\">example</a>,\n",
       " <a href=\"/machine-learning/glossary#feature\" target=\"G\">feature</a>,\n",
       " <a href=\"/machine-learning/glossary#inference\" target=\"G\">inference</a>,\n",
       " <a href=\"/machine-learning/glossary#label\" target=\"G\">label</a>,\n",
       " <a href=\"/machine-learning/glossary#model\" target=\"G\">model</a>,\n",
       " <a href=\"/machine-learning/glossary#regression_model\" target=\"G\">regression model</a>,\n",
       " <a href=\"/machine-learning/glossary#training\" target=\"G\">training</a>]"
      ]
     },
     "execution_count": 75,
     "metadata": {},
     "output_type": "execute_result"
    }
   ],
   "source": [
    "# the whole table by attributes\n",
    "soup.find('aside', attrs={'class':'key-term'}).find_all('a')"
   ]
  },
  {
   "cell_type": "code",
   "execution_count": 74,
   "id": "88d2867b-2e1a-4cd9-af83-e6312afa1414",
   "metadata": {},
   "outputs": [
    {
     "data": {
      "text/plain": [
       "'/machine-learning/glossary#classification_model'"
      ]
     },
     "execution_count": 74,
     "metadata": {},
     "output_type": "execute_result"
    }
   ],
   "source": [
    "# extract one link \n",
    "soup.find('aside', attrs={'class':'key-term'}).find_all('a')[0].get('href')"
   ]
  },
  {
   "cell_type": "code",
   "execution_count": 76,
   "id": "9f1a8590-150b-4b97-8025-2ff3d7968bfb",
   "metadata": {},
   "outputs": [
    {
     "name": "stdout",
     "output_type": "stream",
     "text": [
      "/machine-learning/glossary#classification_model\n",
      "/machine-learning/glossary#example\n",
      "/machine-learning/glossary#feature\n",
      "/machine-learning/glossary#inference\n",
      "/machine-learning/glossary#label\n",
      "/machine-learning/glossary#model\n",
      "/machine-learning/glossary#regression_model\n",
      "/machine-learning/glossary#training\n"
     ]
    }
   ],
   "source": [
    "# extract links one by one\n",
    "all_terms = soup.find('aside', attrs={'class':'key-term'}).find_all('a')\n",
    "\n",
    "for term in all_terms:\n",
    "    print(term.get('href'))"
   ]
  },
  {
   "cell_type": "code",
   "execution_count": 78,
   "id": "dda0e18f-3a8a-4538-8f57-5d0815abf497",
   "metadata": {},
   "outputs": [
    {
     "name": "stdout",
     "output_type": "stream",
     "text": [
      "https://developers.google.com/machine-learning/glossary#classification_model\n",
      "https://developers.google.com/machine-learning/glossary#example\n",
      "https://developers.google.com/machine-learning/glossary#feature\n",
      "https://developers.google.com/machine-learning/glossary#inference\n",
      "https://developers.google.com/machine-learning/glossary#label\n",
      "https://developers.google.com/machine-learning/glossary#model\n",
      "https://developers.google.com/machine-learning/glossary#regression_model\n",
      "https://developers.google.com/machine-learning/glossary#training\n"
     ]
    }
   ],
   "source": [
    "# maybe create a full link?\n",
    "for term in all_terms:\n",
    "    print(\"https://developers.google.com\" + term.get('href'))"
   ]
  },
  {
   "cell_type": "markdown",
   "id": "e6157be1-415d-4e80-91c5-d25f00019c8a",
   "metadata": {},
   "source": [
    "## APIs \n",
    "\n",
    "In this part we will explore one of the web-APIs and see how to send requests and get responses. \n",
    "\n",
    "We will explore the [Frankfurter API](https://www.frankfurter.app/docs/) that contains information on currency rates for a lot of different currencies. "
   ]
  },
  {
   "cell_type": "code",
   "execution_count": 86,
   "id": "f11310e8-0ef9-4fe0-84e8-05332e5c898b",
   "metadata": {},
   "outputs": [],
   "source": [
    "# save the base url\n",
    "base_url = 'https://api.frankfurter.app'"
   ]
  },
  {
   "cell_type": "code",
   "execution_count": 99,
   "id": "636d7a4b-8016-42eb-b68c-f9d3ec9f1131",
   "metadata": {},
   "outputs": [
    {
     "name": "stdout",
     "output_type": "stream",
     "text": [
      "<Response [200]>\n"
     ]
    },
    {
     "data": {
      "text/plain": [
       "{'amount': 1.0,\n",
       " 'base': 'EUR',\n",
       " 'date': '2022-10-14',\n",
       " 'rates': {'AUD': 1.5493,\n",
       "  'BGN': 1.9558,\n",
       "  'BRL': 5.1177,\n",
       "  'CAD': 1.3426,\n",
       "  'CHF': 0.9757,\n",
       "  'CNY': 6.9952,\n",
       "  'CZK': 24.587,\n",
       "  'DKK': 7.4378,\n",
       "  'GBP': 0.86823,\n",
       "  'HKD': 7.6278,\n",
       "  'HRK': 7.5266,\n",
       "  'HUF': 418.24,\n",
       "  'IDR': 15032,\n",
       "  'ILS': 3.444,\n",
       "  'INR': 79.97,\n",
       "  'ISK': 140.5,\n",
       "  'JPY': 143.63,\n",
       "  'KRW': 1398.5,\n",
       "  'MXN': 19.5032,\n",
       "  'MYR': 4.5689,\n",
       "  'NOK': 10.3323,\n",
       "  'NZD': 1.7302,\n",
       "  'PHP': 57.375,\n",
       "  'PLN': 4.8328,\n",
       "  'RON': 4.9335,\n",
       "  'SEK': 11.0035,\n",
       "  'SGD': 1.3852,\n",
       "  'THB': 37.109,\n",
       "  'TRY': 18.0614,\n",
       "  'USD': 0.9717,\n",
       "  'ZAR': 17.6932}}"
      ]
     },
     "execution_count": 99,
     "metadata": {},
     "output_type": "execute_result"
    }
   ],
   "source": [
    "# send a request to the API of the latest \n",
    "API_response = requests.get(base_url + '/latest')\n",
    "\n",
    "# print the response code\n",
    "print(API_response)\n",
    "\n",
    "# inspect the content\n",
    "API_response.json()"
   ]
  },
  {
   "cell_type": "markdown",
   "id": "1b38d49c-0a9f-4a57-a95a-d71a9a63a166",
   "metadata": {},
   "source": [
    "### Adding parameters\n",
    "\n",
    "Now let's add more request parameters."
   ]
  },
  {
   "cell_type": "code",
   "execution_count": 98,
   "id": "03ddb784-bf1f-42bd-adc6-cc4db94811fa",
   "metadata": {},
   "outputs": [
    {
     "data": {
      "text/plain": [
       "{'amount': 1.0, 'base': 'USD', 'date': '2022-10-14', 'rates': {'GBP': 0.89352}}"
      ]
     },
     "execution_count": 98,
     "metadata": {},
     "output_type": "execute_result"
    }
   ],
   "source": [
    "# creating parameters\n",
    "params = {\"from\": \"USD\", \n",
    "         \"to\": \"GBP\"}\n",
    "\n",
    "# run the query with the parameters\n",
    "API_response = requests.get(base_url + '/latest', params=params)\n",
    "\n",
    "# inspect the content\n",
    "API_response.json()"
   ]
  },
  {
   "cell_type": "markdown",
   "id": "2edeac3b-919b-4690-ad39-e993132632b4",
   "metadata": {},
   "source": [
    "### Maybe even more parameters?"
   ]
  },
  {
   "cell_type": "code",
   "execution_count": 100,
   "id": "d2d90875-9dc8-41d3-aa77-70814939de70",
   "metadata": {},
   "outputs": [
    {
     "data": {
      "text/plain": [
       "{'amount': 1.0,\n",
       " 'base': 'USD',\n",
       " 'start_date': '2020-01-02',\n",
       " 'end_date': '2020-01-31',\n",
       " 'rates': {'2020-01-02': {'GBP': 0.75787, 'JPY': 108.77},\n",
       "  '2020-01-03': {'GBP': 0.76357, 'JPY': 108.14},\n",
       "  '2020-01-06': {'GBP': 0.76126, 'JPY': 108.11},\n",
       "  '2020-01-07': {'GBP': 0.76247, 'JPY': 108.44},\n",
       "  '2020-01-08': {'GBP': 0.76354, 'JPY': 108.74},\n",
       "  '2020-01-09': {'GBP': 0.76764, 'JPY': 109.4},\n",
       "  '2020-01-10': {'GBP': 0.76467, 'JPY': 109.64},\n",
       "  '2020-01-13': {'GBP': 0.77081, 'JPY': 109.88},\n",
       "  '2020-01-14': {'GBP': 0.77029, 'JPY': 110.05},\n",
       "  '2020-01-15': {'GBP': 0.76901, 'JPY': 109.88},\n",
       "  '2020-01-16': {'GBP': 0.76524, 'JPY': 109.95},\n",
       "  '2020-01-17': {'GBP': 0.76616, 'JPY': 110.11},\n",
       "  '2020-01-20': {'GBP': 0.76928, 'JPY': 110.18},\n",
       "  '2020-01-21': {'GBP': 0.765, 'JPY': 110.04},\n",
       "  '2020-01-22': {'GBP': 0.76159, 'JPY': 109.97},\n",
       "  '2020-01-23': {'GBP': 0.76186, 'JPY': 109.55},\n",
       "  '2020-01-24': {'GBP': 0.76405, 'JPY': 109.61},\n",
       "  '2020-01-27': {'GBP': 0.76515, 'JPY': 108.94},\n",
       "  '2020-01-28': {'GBP': 0.76877, 'JPY': 109.06},\n",
       "  '2020-01-29': {'GBP': 0.76884, 'JPY': 109.14},\n",
       "  '2020-01-30': {'GBP': 0.76329, 'JPY': 108.83},\n",
       "  '2020-01-31': {'GBP': 0.76163, 'JPY': 108.89}}}"
      ]
     },
     "execution_count": 100,
     "metadata": {},
     "output_type": "execute_result"
    }
   ],
   "source": [
    "# creating parameters\n",
    "params = {\"from\": \"USD\", \n",
    "         \"to\": \"GBP,JPY\"}\n",
    "\n",
    "# run the query with the parameters\n",
    "API_response = requests.get(base_url + '/2020-01-01..2020-01-31', params=params)\n",
    "\n",
    "# inspect the content\n",
    "API_response.json()"
   ]
  },
  {
   "cell_type": "code",
   "execution_count": null,
   "id": "e80db9a8-af5e-407e-87f5-f65df8ed2c4d",
   "metadata": {},
   "outputs": [],
   "source": []
  }
 ],
 "metadata": {
  "kernelspec": {
   "display_name": "Python 3 (ipykernel)",
   "language": "python",
   "name": "python3"
  },
  "language_info": {
   "codemirror_mode": {
    "name": "ipython",
    "version": 3
   },
   "file_extension": ".py",
   "mimetype": "text/x-python",
   "name": "python",
   "nbconvert_exporter": "python",
   "pygments_lexer": "ipython3",
   "version": "3.9.12"
  }
 },
 "nbformat": 4,
 "nbformat_minor": 5
}
