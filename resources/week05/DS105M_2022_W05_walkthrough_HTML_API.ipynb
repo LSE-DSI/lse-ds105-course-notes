{
 "cells": [
  {
   "cell_type": "markdown",
   "id": "bfLJl41idd1c",
   "metadata": {
    "id": "bfLJl41idd1c"
   },
   "source": [
    "**LSE DATA SCIENCE INSTITUTE** \n",
    "\n",
    "\n",
    "[DS105M](https://lse-dsi.github.io/lse-ds105-course-notes/) | **Week 05: Data types & data frames**\n",
    "\n",
    "---\n",
    "\n",
    "\n",
    "🎯 **OBJECTIVE:** Recap of essential concepts of programming & Introduction of the data frame\n",
    "\n",
    "👨‍💻 **AUTHOR:** [@jonjoncardoso](https://github.com/jonjoncardoso)\n",
    "\n",
    "📅 **LAST UPDATED:** 25 October 2022\n",
    "\n",
    "\n",
    "---\n",
    "\n",
    "📚 Useful (?) resources:\n",
    "- Search for emojis on [emojipedia](https://emojipedia.org/)\n",
    "- Take a look at this [markdown guide](https://www.markdownguide.org/)\n",
    "- **Python user?** Take some time later in the week to follow this [Pandas tutorial](https://pandas.pydata.org/pandas-docs/stable/user_guide/10min.html)\n",
    "- **R user?** Have a look at [this RMarkdown tutorial](https://r4ds.had.co.nz/r-markdown.html), also check [this tutorial](https://r4ds.had.co.nz/workflow-basics.html) of the same book\n",
    "\n",
    "---"
   ]
  },
  {
   "cell_type": "markdown",
   "id": "8bd4aa48-8964-4ddd-9d2b-4e5e10ae40b3",
   "metadata": {
    "id": "8bd4aa48-8964-4ddd-9d2b-4e5e10ae40b3"
   },
   "source": [
    "# Setup\n",
    "\n",
    "If you want to get the most out of this session: install [Python](https://www.python.org/downloads/) and [Jupyter Lab](https://jupyter.org/install) in your computer before coming to the lecture. \n",
    "\n",
    "Or, if you are learning R, ensure you have [R](https://www.r-project.org/) and the [RStudio IDE](https://www.rstudio.com/products/rstudio/download/) installed. The main content is on Jupyter but I will switch to RStudio here and there to show you how to do the same things.\n",
    "\n",
    "\n",
    "Last week, I demonstrated how to do web scraping and API requests using a **notebook**. I opened it on Google Collab website, and some of you were able to follow along. But let's understand what is a computational notebook.\n"
   ]
  },
  {
   "cell_type": "markdown",
   "id": "ff67c3a1",
   "metadata": {
    "tags": []
   },
   "source": [
    "# What is a Computational Notebook?\n",
    "\n",
    "A computational notebook is a mix of **Markdown** (text) and **code** that lets you interact, document and share your analysis with others.\n",
    "\n",
    "Why don't you give it a try?\n"
   ]
  },
  {
   "cell_type": "markdown",
   "id": "40df82e8-f3c0-40a2-b207-4e9b08be6187",
   "metadata": {},
   "source": [
    "## 🎯 **ACTION POINT1 01**: Setup (15-20 min)\n",
    "\n",
    "-   **Python users:** Let's open [Jupyter Lab](https://jupyter.org/install) together and learn how to create a new notebook\n",
    "\n",
    "    -   Launch your favorite terminal and install Jupyter Lab with `pip install jupyterlab`\n",
    "\n",
    "    -   Create a new directory in your computer and call it something like `DS105M/week05`\n",
    "\n",
    "    -   `cd` to this directory and launch Jupyter with the command: `jupyter lab .`\n",
    "\n",
    "    -   Create a new notebook by clicking on `File -> New -> Notebook`\n",
    "\n",
    "-   **R users:** Let's open [RStudio IDE](https://www.rstudio.com/products/rstudio/download/) together and learn how to create a new R Notebook (or R Markdown file)\n",
    "\n",
    "    -   Launch RStudio\n",
    "\n",
    "    -   Go to `File -> New project -> New directory` and create a new project called something like `DS105M/week05`\n",
    "\n",
    "    -   Create a new notebook by clicking on `File -> New File -> R Notebook`\n"
   ]
  },
  {
   "cell_type": "markdown",
   "id": "0134d5bb-fffe-4130-96f5-3a9842a35040",
   "metadata": {},
   "source": [
    "## 🎯 ACTION POINT 02: Write Markdown and Code (10 min)\n",
    "\n",
    "Create a new code cell. Follow the instructions by your lecturer.\n",
    "\n",
    "In Python, this will look like this:\n"
   ]
  },
  {
   "cell_type": "code",
   "execution_count": 1,
   "id": "341135f3-c752-4628-88f2-b21968692f1c",
   "metadata": {
    "execution": {
     "iopub.execute_input": "2022-10-25T12:08:13.610112Z",
     "iopub.status.busy": "2022-10-25T12:08:13.608683Z",
     "iopub.status.idle": "2022-10-25T12:08:13.621141Z",
     "shell.execute_reply": "2022-10-25T12:08:13.620664Z",
     "shell.execute_reply.started": "2022-10-25T12:08:13.609935Z"
    },
    "tags": []
   },
   "outputs": [
    {
     "data": {
      "text/plain": [
       "3"
      ]
     },
     "execution_count": 1,
     "metadata": {},
     "output_type": "execute_result"
    }
   ],
   "source": [
    "1 + 2"
   ]
  },
  {
   "cell_type": "markdown",
   "id": "f6d36ed2-cd2b-406e-8b03-3b7585b3a594",
   "metadata": {},
   "source": [
    "# Programming Recap\n",
    "\n",
    "The rest of this notebook will be created in real time with your help. I want to know what are your main struggles with programming.\n",
    "\n",
    "We can cover things like:\n",
    "\n",
    "- **Basic data types:** integers, numbers, lists, vectors, arrays, packages\n",
    "- **Flow control:** if/else, while, for loops \n",
    "- **Functions:** how do they work?\n",
    "\n",
    "## 🎯 ACTION POINT 03: Write some code\n",
    "\n",
    "Try to use the space in this notebook to revisit some code you wrote last week, or some other code piece you came across during your pre-sessional programming course. Since this is an interactive session, it is a great place to ask \"How could I do X in python\"? type of questions."
   ]
  },
  {
   "cell_type": "code",
   "execution_count": null,
   "id": "a4c8c59f-2954-42b2-b6bf-ee8353582d3d",
   "metadata": {},
   "outputs": [],
   "source": []
  }
 ],
 "metadata": {
  "colab": {
   "collapsed_sections": [],
   "provenance": [],
   "toc_visible": true
  },
  "kernelspec": {
   "display_name": "Python 3 (ipykernel)",
   "language": "python",
   "name": "python3"
  },
  "language_info": {
   "codemirror_mode": {
    "name": "ipython",
    "version": 3
   },
   "file_extension": ".py",
   "mimetype": "text/x-python",
   "name": "python",
   "nbconvert_exporter": "python",
   "pygments_lexer": "ipython3",
   "version": "3.8.10"
  },
  "toc-autonumbering": true
 },
 "nbformat": 4,
 "nbformat_minor": 5
}
