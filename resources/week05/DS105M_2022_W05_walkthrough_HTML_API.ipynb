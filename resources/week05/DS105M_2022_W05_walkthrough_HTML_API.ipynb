{
 "cells": [
  {
   "cell_type": "markdown",
   "id": "bfLJl41idd1c",
   "metadata": {
    "id": "bfLJl41idd1c"
   },
   "source": [
    "**LSE DATA SCIENCE INSTITUTE** \n",
    "\n",
    "\n",
    "[DS105M](https://lse-dsi.github.io/lse-ds105-course-notes/) | **Week 05: Data types & data frames**\n",
    "\n",
    "---\n",
    "\n",
    "\n",
    "🎯 **OBJECTIVE:** Recap of essential concepts of programming & Introduction of the data frame\n",
    "\n",
    "👨‍💻 **AUTHOR:** [@jonjoncardoso](https://github.com/jonjoncardoso)\n",
    "\n",
    "📅 **LAST UPDATED:** 25 October 2022\n",
    "\n",
    "\n",
    "---\n",
    "\n",
    "📚 Useful (?) resources:\n",
    "- Search for emojis on [emojipedia](https://emojipedia.org/)\n",
    "- Take a look at this [markdown guide](https://www.markdownguide.org/)\n",
    "- **Python user?** Take some time later in the week to follow this [Pandas tutorial](https://pandas.pydata.org/pandas-docs/stable/user_guide/10min.html)\n",
    "- **R user?** Have a look at [this RMarkdown tutorial](https://r4ds.had.co.nz/r-markdown.html), also check [this tutorial](https://r4ds.had.co.nz/workflow-basics.html) of the same book\n",
    "\n",
    "---"
   ]
  },
  {
   "cell_type": "markdown",
   "id": "8bd4aa48-8964-4ddd-9d2b-4e5e10ae40b3",
   "metadata": {
    "id": "8bd4aa48-8964-4ddd-9d2b-4e5e10ae40b3"
   },
   "source": [
    "# Setup\n",
    "\n",
    "If you want to get the most out of this session: install [Python](https://www.python.org/downloads/) and [Jupyter Lab](https://jupyter.org/install) in your computer before coming to the lecture. \n",
    "\n",
    "Or, if you are learning R, ensure you have [R](https://www.r-project.org/) and the [RStudio IDE](https://www.rstudio.com/products/rstudio/download/) installed. The main content is on Jupyter but I will switch to RStudio here and there to show you how to do the same things.\n",
    "\n",
    "\n",
    "Last week, I demonstrated how to do web scraping and API requests using a **notebook**. I opened it on Google Collab website, and some of you were able to follow along. But let's understand what is a computational notebook.\n"
   ]
  },
  {
   "cell_type": "markdown",
   "id": "ff67c3a1",
   "metadata": {
    "tags": []
   },
   "source": [
    "# What is a Computational Notebook?\n",
    "\n",
    "A computational notebook is a mix of **Markdown** (text) and **code** that lets you interact, document and share your analysis with others.\n",
    "\n",
    "Why don't you give it a try?\n"
   ]
  },
  {
   "cell_type": "markdown",
   "id": "40df82e8-f3c0-40a2-b207-4e9b08be6187",
   "metadata": {},
   "source": [
    "## 🎯 **ACTION POINT1 01**: Setup (15-20 min)\n",
    "\n",
    "-   **Python users:** Let's open [Jupyter Lab](https://jupyter.org/install) together and learn how to create a new notebook\n",
    "\n",
    "    -   Launch your favorite terminal and install Jupyter Lab with `pip install jupyterlab`\n",
    "\n",
    "    -   Create a new directory in your computer and call it something like `DS105M/week05`\n",
    "\n",
    "    -   `cd` to this directory and launch Jupyter with the command: `jupyter lab .`\n",
    "\n",
    "    -   Create a new notebook by clicking on `File -> New -> Notebook`\n",
    "\n",
    "-   **R users:** Let's open [RStudio IDE](https://www.rstudio.com/products/rstudio/download/) together and learn how to create a new R Notebook (or R Markdown file)\n",
    "\n",
    "    -   Launch RStudio\n",
    "\n",
    "    -   Go to `File -> New project -> New directory` and create a new project called something like `DS105M/week05`\n",
    "\n",
    "    -   Create a new notebook by clicking on `File -> New File -> R Notebook`\n"
   ]
  },
  {
   "cell_type": "markdown",
   "id": "0134d5bb-fffe-4130-96f5-3a9842a35040",
   "metadata": {},
   "source": [
    "## 🎯 ACTION POINT 02: Write Markdown and Code (10 min)\n",
    "\n",
    "Create a new code cell. Follow the instructions by your lecturer.\n",
    "\n",
    "In Python, this will look like this:\n"
   ]
  },
  {
   "cell_type": "code",
   "execution_count": null,
   "id": "341135f3-c752-4628-88f2-b21968692f1c",
   "metadata": {
    "tags": []
   },
   "outputs": [],
   "source": [
    "1 + 2"
   ]
  },
  {
   "cell_type": "markdown",
   "id": "f6d36ed2-cd2b-406e-8b03-3b7585b3a594",
   "metadata": {},
   "source": [
    "# Programming Recap\n",
    "\n",
    "The rest of this notebook will be created in real time with your help. I want to know what are your main struggles with programming.\n",
    "\n",
    "We can cover things like:\n",
    "\n",
    "- **Basic data types:** integers, numbers, lists, vectors, arrays, packages\n",
    "- **Flow control:** if/else, while, for loops \n",
    "- **Functions:** how do they work?\n",
    "\n",
    "## 🎯 ACTION POINT 03: Write some code\n",
    "\n",
    "Try to use the space in this notebook to revisit some code you wrote last week, or some other code piece you came across during your pre-sessional programming course. Since this is an interactive session, it is a great place to ask \"How could I do X in python\"? type of questions."
   ]
  },
  {
   "cell_type": "code",
   "execution_count": null,
   "id": "a4c8c59f-2954-42b2-b6bf-ee8353582d3d",
   "metadata": {
    "tags": []
   },
   "outputs": [],
   "source": []
  },
  {
   "cell_type": "markdown",
   "id": "a7efcde8-7145-4f22-9112-a4769f9d8bb2",
   "metadata": {},
   "source": [
    "-------------------------------"
   ]
  },
  {
   "cell_type": "markdown",
   "id": "880e5bf5-4662-482d-9ed9-32aa3e935de2",
   "metadata": {},
   "source": [
    "# Data Frames \n",
    "\n",
    "You will find data frames in every major programming language associated with data science: python, R, Julia.\n",
    "\n",
    "A data frame is a **rectangular data format** and it looks like what you see on _a single tab_ of a spreadsheet. The reason data scientists use data frames and not spreadsheets is because it is more efficient to conduct and automate analysis by working with dataframes than by clicking on a graphical user interface (MS Excel is not the easiest!).\n",
    "\n",
    "## 🎯 ACTION POINT 04: Installing packages\n",
    "\n",
    "**Python**\n",
    "\n",
    "Python does not have built-in support for dataframes, we need to install a package called `pandas` to work with this datatype.\n",
    "\n",
    "To install it, you can open a new terminal (`File -> New Terminal`) and use `pip`:\n",
    "\n",
    "```shell\n",
    "pip install pandas\n",
    "```\n",
    "\n",
    "Pro-tip: create a new code cell below and type `!pip install pandas` directly on this notebook!\n",
    "\n",
    "**R**\n",
    "\n",
    "Base R, on the other hand, already supports dataframe. You don't need to install anything to use it BUT it's typically a good idea to work with [tidyverse](https://www.tidyverse.org/), a set of packages that **enhances** the power of regular R dataframes.\n",
    "\n",
    "To install tidyverse, open the R console and type:\n",
    "\n",
    "```r\n",
    "install.packages(\"tidyverse\")\n",
    "```"
   ]
  },
  {
   "cell_type": "markdown",
   "id": "5ce2089c-d145-4d28-80a4-4aabdaa2f528",
   "metadata": {},
   "source": [
    "## Load package\n",
    "\n",
    "After installing the package, you still have to **import it** before you can use it.\n",
    "\n",
    "In python, we normally import pandas like this:"
   ]
  },
  {
   "cell_type": "code",
   "execution_count": null,
   "id": "ae69f6d6-96f8-491b-8891-c37aee021d8a",
   "metadata": {
    "tags": []
   },
   "outputs": [],
   "source": [
    "import pandas as pd"
   ]
  },
  {
   "cell_type": "markdown",
   "id": "bcd347e0-88fa-40a3-94c1-5b86c3d6631f",
   "metadata": {},
   "source": [
    "> _⚠️ If you didn't have pandas installed, you will probably have to restart your python session (the kernel) before being able to import pandas. Raise your hand in class if you cannot get pandas to work. If after reloading, it still does not work, then it's likely that pandas wasn't installed correctly._"
   ]
  },
  {
   "cell_type": "markdown",
   "id": "0530bb93-d7b7-471f-89e1-c69275cd53e5",
   "metadata": {},
   "source": [
    "**R version**\n",
    "\n",
    "You don't need to do anything at this moment, because data.frame is already part of base R.\n",
    "\n",
    "If you want to learn how to use `tidyverse`, then you need to import it:\n",
    "\n",
    "```r\n",
    "library(tidyverse)\n",
    "```"
   ]
  },
  {
   "cell_type": "markdown",
   "id": "2f1f374e-9ab0-4482-9268-d5d7e712da8f",
   "metadata": {},
   "source": [
    "## The shape of a dataframe\n",
    "\n",
    "Let me show you what a dataframe looks like. Don't pay too much attention to the code below, the point here is just to observe the **format** of the data:"
   ]
  },
  {
   "cell_type": "code",
   "execution_count": null,
   "id": "079a56d6-16a8-4ed2-884b-b0369d91ae9d",
   "metadata": {
    "tags": []
   },
   "outputs": [],
   "source": [
    "df = pd.DataFrame({\"column_one\"  : [1.0, 2.0, 3.0, 4.0],\n",
    "                   \"column_two\"  : [2, 4, 6, 8],\n",
    "                   \"column_three\": [\"first name\", \"second name\", \"third name\", \"fourth name\"]},\n",
    "                  index=[\"a\", \"b\", \"c\", \"d\"])\n",
    "\n",
    "df"
   ]
  },
  {
   "cell_type": "markdown",
   "id": "2cb559b6-e805-4443-9541-e69496f584ee",
   "metadata": {},
   "source": [
    "**R version**\n",
    "\n",
    "If using R, you can create a new cell and type:\n",
    "\n",
    "```r\n",
    "df <- data.frame(column_one=c(1.0, 2.0, 3.0, 4.0),\n",
    "                 column_two=c(2, 4, 6, 8),\n",
    "                 column_three=c(\"first name\", \"second name\", \"third name\", \"fourth name\"),\n",
    "                 row.names=c(\"a\", \"b\", \"c\", \"d\"))\n",
    "df\n",
    "```\n",
    "\n",
    "You should see the following output:\n",
    "\n",
    "```r\n",
    "  column_one column_two column_three\n",
    "a          1          2   first name\n",
    "b          2          4  second name\n",
    "c          3          6   third name\n",
    "d          4          8  fourth name\n",
    "```"
   ]
  },
  {
   "cell_type": "markdown",
   "id": "f1c5db8e-54af-4727-9de1-ed0f68e911fd",
   "metadata": {},
   "source": [
    "## Data types\n",
    "\n",
    "What are the types of each column?"
   ]
  },
  {
   "cell_type": "code",
   "execution_count": null,
   "id": "563abe18-9825-43a9-ac87-bd0ed9a6e043",
   "metadata": {
    "tags": []
   },
   "outputs": [],
   "source": [
    "df.dtypes"
   ]
  },
  {
   "cell_type": "markdown",
   "id": "204e9190-3654-4e7d-a67f-863786407f9b",
   "metadata": {},
   "source": [
    "**R version**\n",
    "\n",
    "Type:\n",
    "\n",
    "```r\n",
    "str(df)\n",
    "```\n",
    "\n",
    "to see the output:\n",
    "\n",
    "```r\n",
    "'data.frame':\t4 obs. of  3 variables:\n",
    " $ column_one  : num  1 2 3 4\n",
    " $ column_two  : num  2 4 6 8\n",
    " $ column_three: chr  \"first name\" \"second name\" \"third name\" \"fourth name\"\n",
    "```"
   ]
  },
  {
   "cell_type": "markdown",
   "id": "4b754e71-63ea-408d-8668-f0aef3398694",
   "metadata": {},
   "source": [
    "## 🎯 ACTION POINT 05: A little challenge to yourself\n",
    "\n",
    "Try to use the code above and create a new dataframe with the same content as the one before, only this time add a new column called `column_four` of the type `boolean` (`logical`). This column should be equals to `True` if the content of `column_one` **and** `column_two` represent even numbers."
   ]
  },
  {
   "cell_type": "markdown",
   "id": "80320a53-ce3f-457f-8298-91b9b249b76c",
   "metadata": {},
   "source": [
    "# How to access the values in a column by its name"
   ]
  },
  {
   "cell_type": "code",
   "execution_count": null,
   "id": "f26302b6-8bac-4236-9826-aeb115ef8aca",
   "metadata": {
    "tags": []
   },
   "outputs": [],
   "source": [
    "df.column_one"
   ]
  },
  {
   "cell_type": "markdown",
   "id": "44f0a99b-9d59-468c-bdda-3c0e12dd2a02",
   "metadata": {},
   "source": [
    "OR"
   ]
  },
  {
   "cell_type": "code",
   "execution_count": null,
   "id": "4f055a8b-4285-4065-98f0-d743f593e401",
   "metadata": {
    "tags": []
   },
   "outputs": [],
   "source": [
    "df[\"column_one\"]"
   ]
  },
  {
   "cell_type": "markdown",
   "id": "3f201d0e-8842-4b16-9d1f-ddccc08d4405",
   "metadata": {},
   "source": [
    "**R version**\n",
    "\n",
    "```r\n",
    "df$column_one\n",
    "```\n",
    "\n",
    "to see:\n",
    "\n",
    "```r\n",
    "1 2 3 4\n",
    "```"
   ]
  },
  {
   "cell_type": "markdown",
   "id": "de34fad1-3970-497e-93c1-dc1579233d46",
   "metadata": {},
   "source": [
    "# How to access the n-th column?\n",
    "\n",
    "You will have to use the `iloc` (integer-based indexing).\n",
    "\n",
    "- ⚠️ Pay attention to the comma (`,`)\n",
    "- ⚠️ Yes, you need that colon (`:`), it just means \"return all rows\" in this case\n",
    "- ⚠️ Remember that Python is zero-indexed. The first element in a vector `a` is accessed with `a[0]`. \n",
    "    - If you use `a[1]`, you will get the second element. This applies to all indices in python"
   ]
  },
  {
   "cell_type": "code",
   "execution_count": null,
   "id": "d9a04eba-c71f-4146-9439-ac7d4eec68f5",
   "metadata": {
    "tags": []
   },
   "outputs": [],
   "source": [
    "df.iloc[:,1] # to get the second column"
   ]
  },
  {
   "cell_type": "markdown",
   "id": "498b7f98-7053-47fb-8784-a6b1965f2d29",
   "metadata": {},
   "source": [
    "Read more about iloc [here](https://pandas.pydata.org/docs/reference/api/pandas.DataFrame.iloc.html) "
   ]
  },
  {
   "cell_type": "markdown",
   "id": "036efaed-26e0-43b1-a554-2e47545a43da",
   "metadata": {},
   "source": [
    "**R version**\n",
    "\n",
    "- ⚠️ Pay attention to the comma (`,`)\n",
    "- ⚠️ The empty space before the comma has the same meaning as the colon in python, it means \"return all rows\" in this case\n",
    "- ⚠️ Different to Python, indices in R start with number `1`. The first element in a vector `a` is accessed with `a[1]`.\n",
    "    - If you use `a[2]`, you will get the second element.\n",
    "\n",
    "The command:\n",
    "\n",
    "```r\n",
    "df[, 2]\n",
    "```\n",
    "\n",
    "will return:\n",
    "\n",
    "```r\n",
    "2 4 6 8\n",
    "```"
   ]
  },
  {
   "cell_type": "markdown",
   "id": "8d87b4d9-42f9-4651-8876-bcdf29fa3683",
   "metadata": {},
   "source": [
    "# How to access the n-th row?\n",
    "\n",
    "Almost the same syntax, using `iloc`. The only change is that we pass the index before the comma.\n",
    "\n",
    "- ⚠️ Pay attention to the comma (`,`)\n",
    "- ⚠️ Yes, you need that colon (`:`), it just means \"return all columns\" in this case\n",
    "- ⚠️ Remember that Python is zero-indexed. The first element in a vector `a` is accessed with `a[0]`. \n",
    "    - If you use `a[1]`, you will get the second element. This applies to all indices in python"
   ]
  },
  {
   "cell_type": "code",
   "execution_count": null,
   "id": "1dc31bb8-ed3b-4132-9a61-972d4c490278",
   "metadata": {
    "tags": []
   },
   "outputs": [],
   "source": [
    "df.iloc[1,:] # to get the second row"
   ]
  },
  {
   "cell_type": "markdown",
   "id": "f22d0ace-9d56-4ecc-9ddc-4fc57db2e90e",
   "metadata": {},
   "source": [
    "Read more about iloc [here](https://pandas.pydata.org/docs/reference/api/pandas.DataFrame.iloc.html) "
   ]
  },
  {
   "cell_type": "markdown",
   "id": "89c02dce-239e-45c7-8558-7bcefadefd35",
   "metadata": {},
   "source": [
    "**R version**\n",
    "\n",
    "Almost the same syntax. The only change is that we pass the index before the comma.\n",
    "\n",
    "- ⚠️ Pay attention to the comma (`,`)\n",
    "- ⚠️ The empty space **after** the comma has the same meaning as the colon in python, it means \"return all columns\" in this case\n",
    "- ⚠️ Different to Python, indices in R start with number `1`. The first element in a vector `a` is accessed with `a[1]`.\n",
    "    - If you use `a[2]`, you will get the second element.\n",
    "\n",
    "The command:\n",
    "\n",
    "```r\n",
    "df[2, ]\n",
    "```\n",
    "\n",
    "will return:\n",
    "\n",
    "```r\n",
    "  column_one column_two column_three\n",
    "b          2          4  second name\n",
    "```\n",
    "\n",
    "(prettier/more organised than Python I think!)"
   ]
  },
  {
   "cell_type": "markdown",
   "id": "58b94bc4-caff-4b91-aead-aa049962701a",
   "metadata": {},
   "source": [
    "# How many rows and columns are there in my dataframe?"
   ]
  },
  {
   "cell_type": "code",
   "execution_count": null,
   "id": "a7a1d487-e6b5-4d36-be1c-e2027c615d60",
   "metadata": {
    "tags": []
   },
   "outputs": [],
   "source": [
    "df.shape"
   ]
  },
  {
   "cell_type": "markdown",
   "id": "09e06b18-fa53-47c7-8e63-79c01db4579c",
   "metadata": {
    "execution": {
     "iopub.execute_input": "2022-10-25T13:59:38.863558Z",
     "iopub.status.busy": "2022-10-25T13:59:38.862968Z",
     "iopub.status.idle": "2022-10-25T13:59:38.867022Z",
     "shell.execute_reply": "2022-10-25T13:59:38.866330Z",
     "shell.execute_reply.started": "2022-10-25T13:59:38.863537Z"
    },
    "tags": []
   },
   "source": [
    "**R version**\n",
    "\n",
    "```r\n",
    "dim(df)\n",
    "```\n",
    "\n",
    "will return:\n",
    "\n",
    "```r\n",
    " 4 3\n",
    "```"
   ]
  },
  {
   "cell_type": "markdown",
   "id": "7e81bf10-55bb-4f0b-a082-ee06d0d25771",
   "metadata": {},
   "source": [
    "# Now let's load some real data\n",
    "\n",
    "You can try to replicate this later at home.\n",
    "\n",
    "I went to the [On Street Crime In Camden dataset](https://opendata.camden.gov.uk/Crime-and-Criminal-Justice/On-Street-Crime-In-Camden-Map/893b-tp33) and downloaded it as a CSV file (menu Export) and saved it in my local current directory"
   ]
  },
  {
   "cell_type": "markdown",
   "id": "843101c6-165d-444c-a94c-5b9401d35476",
   "metadata": {},
   "source": [
    "## Read the data"
   ]
  },
  {
   "cell_type": "code",
   "execution_count": null,
   "id": "16b395b5-00c6-4778-a7c2-533a4e7be1b8",
   "metadata": {
    "tags": []
   },
   "outputs": [],
   "source": [
    "df_street_crime = pd.read_csv(\"./On_Street_Crime_In_Camden_Map.csv\")"
   ]
  },
  {
   "cell_type": "markdown",
   "id": "20e41540-730e-4bc8-9b1b-057a0c6c679b",
   "metadata": {},
   "source": [
    "## Explore dimensions and column names"
   ]
  },
  {
   "cell_type": "code",
   "execution_count": null,
   "id": "c9f9ef6f-f123-4fef-822d-c7a000286bcf",
   "metadata": {
    "tags": []
   },
   "outputs": [],
   "source": [
    "df_street_crime.shape"
   ]
  },
  {
   "cell_type": "code",
   "execution_count": null,
   "id": "88df2b1c-a1a0-4cac-bd86-9653c1b9393f",
   "metadata": {
    "tags": []
   },
   "outputs": [],
   "source": [
    "df_street_crime.columns"
   ]
  },
  {
   "cell_type": "code",
   "execution_count": null,
   "id": "d9197cc5-5c3f-4689-ad74-b42da230d4fa",
   "metadata": {
    "tags": []
   },
   "outputs": [],
   "source": [
    "df_street_crime.dtypes"
   ]
  },
  {
   "cell_type": "markdown",
   "id": "8d6fa437-5a6a-4ab4-95d8-2ed9a6f09e96",
   "metadata": {},
   "source": [
    "## 🎯 ACTION POINT 06: Explore the data\n",
    "\n",
    "**Let's work on it together. What would like you to explore in this data?**"
   ]
  }
 ],
 "metadata": {
  "colab": {
   "collapsed_sections": [],
   "provenance": [],
   "toc_visible": true
  },
  "kernelspec": {
   "display_name": "Python 3 (ipykernel)",
   "language": "python",
   "name": "python3"
  },
  "language_info": {
   "codemirror_mode": {
    "name": "ipython",
    "version": 3
   },
   "file_extension": ".py",
   "mimetype": "text/x-python",
   "name": "python",
   "nbconvert_exporter": "python",
   "pygments_lexer": "ipython3",
   "version": "3.8.10"
  },
  "toc-autonumbering": true
 },
 "nbformat": 4,
 "nbformat_minor": 5
}
