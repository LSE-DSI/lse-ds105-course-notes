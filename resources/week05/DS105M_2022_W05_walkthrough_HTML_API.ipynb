{
  "cells": [
    {
      "cell_type": "markdown",
      "id": "bfLJl41idd1c",
      "metadata": {
        "id": "bfLJl41idd1c"
      },
      "source": [
        "**LSE DATA SCIENCE INSTITUTE** \n",
        "\n",
        "\n",
        "[DS105M](https://lse-dsi.github.io/lse-ds105-course-notes/) | **Week 05: Data types & data frames**\n",
        "\n",
        "---\n",
        "\n",
        "\n",
        "🎯 **OBJECTIVE:** Recap of essential concepts of programming & Introduction of the data frame\n",
        "\n",
        "👨‍💻 **AUTHOR:** [@jonjoncardoso](https://github.com/jonjoncardoso)\n",
        "\n",
        "📅 **LAST UPDATED:** 25 October 2022\n",
        "\n",
        "\n",
        "---\n"
      ]
    },
    {
      "cell_type": "markdown",
      "id": "8bd4aa48-8964-4ddd-9d2b-4e5e10ae40b3",
      "metadata": {
        "id": "8bd4aa48-8964-4ddd-9d2b-4e5e10ae40b3"
      },
      "source": [
        "# Setup\n",
        "\n",
        "If you want to get the most out of this session: install [Python](https://www.python.org/downloads/) and [Jupyter Lab](https://jupyter.org/install) in your computer before coming to the lecture. \n",
        "\n",
        "Or, if you are learning R, ensure you have R and the RStudio IDE installed. The main content is on Jupyter but I will switch to RStudio "
      ]
    },
    {
      "cell_type": "markdown",
      "id": "5MQdKD0Zfvdt",
      "metadata": {
        "id": "5MQdKD0Zfvdt"
      },
      "source": [
        "# Webscraping\n",
        "\n",
        "1. Let's get to [Google's Key ML Terminology site](https://developers.google.com/machine-learning/crash-course/framing/ml-terminology) and explore the response of the server using the **Inspect element** functionality. \n",
        "2. Change some HTML information. For instance, change the name of the heading. "
      ]
    },
    {
      "cell_type": "markdown",
      "id": "fcf695af-6b64-4455-b74e-bf7d24792f4c",
      "metadata": {
        "id": "fcf695af-6b64-4455-b74e-bf7d24792f4c"
      },
      "source": [
        "### Importing the packages we need"
      ]
    },
    {
      "cell_type": "code",
      "execution_count": null,
      "id": "56523a25-623b-41f1-ad39-72cfe8852762",
      "metadata": {
        "id": "56523a25-623b-41f1-ad39-72cfe8852762"
      },
      "outputs": [],
      "source": [
        "# importing required packages \n",
        "import requests \n",
        "from bs4 import BeautifulSoup"
      ]
    },
    {
      "cell_type": "markdown",
      "id": "sbUOSX3TgVZu",
      "metadata": {
        "id": "sbUOSX3TgVZu"
      },
      "source": [
        "⚠️ **If you try to replicate it on your own python environment, the lines above might throw an error.** \n",
        "\n",
        "You might need to install these packages first.\n",
        "\n",
        "Close python, open your terminal and type:\n",
        "\n",
        "```shell\n",
        "pip install requests=2.28.1\n",
        "pip install beautifulsoup4==4.11.1\n",
        "```\n",
        "\n",
        "Then, try opening the python shell and importing the packages again."
      ]
    },
    {
      "cell_type": "markdown",
      "id": "cgvposWpf8NW",
      "metadata": {
        "id": "cgvposWpf8NW"
      },
      "source": [
        "💡**Tip: A good way to find out more about a particular package is by reading their documentation page.**\n",
        "\n",
        "You can usually find a link on the **pypi** page of the package:\n",
        "\n",
        "- [requests](https://pypi.org/project/requests/)\n",
        "- [beautifulsoup4](https://pypi.org/project/beautifulsoup4/)"
      ]
    },
    {
      "cell_type": "markdown",
      "id": "3MiDQb4xhM-4",
      "metadata": {
        "id": "3MiDQb4xhM-4"
      },
      "source": [
        "### Send a request to Google ML course website\n",
        "\n",
        "We use `requests` for this:"
      ]
    },
    {
      "cell_type": "code",
      "execution_count": null,
      "id": "4e1fdcdb-caee-4816-9a7d-ea35b5d2490c",
      "metadata": {
        "id": "4e1fdcdb-caee-4816-9a7d-ea35b5d2490c"
      },
      "outputs": [],
      "source": [
        "# sending a reuqets to a web-site\n",
        "response_google = requests.get('https://developers.google.com/machine-learning/crash-course/framing/ml-terminology')\n",
        "\n",
        "# printing the response \n",
        "print(response_google)"
      ]
    },
    {
      "cell_type": "markdown",
      "id": "3d120382-b551-4d7b-9e40-b8c7b5309573",
      "metadata": {
        "id": "3d120382-b551-4d7b-9e40-b8c7b5309573"
      },
      "source": [
        "📜 **Other possible responses**\n",
        "\n",
        "**200** OK  \n",
        "**204** No Content  \n",
        "**400** Bad Request  \n",
        "**401** Unauthorized  \n",
        "**402** Payment Required   \n",
        "**403** Forbidden  \n",
        "**404** Not Found  \n",
        "**500** Internal Server Error  \n",
        "**502** Bad Gateway  "
      ]
    },
    {
      "cell_type": "markdown",
      "id": "65a9f573-aa4d-468b-85e9-6cc27d0d7401",
      "metadata": {
        "id": "65a9f573-aa4d-468b-85e9-6cc27d0d7401"
      },
      "source": [
        "---\n",
        "\n",
        "Let's try to get to week 12 for our course!"
      ]
    },
    {
      "cell_type": "code",
      "execution_count": null,
      "id": "2222c1b4-f698-4414-b037-2d3981a3032b",
      "metadata": {
        "id": "2222c1b4-f698-4414-b037-2d3981a3032b"
      },
      "outputs": [],
      "source": [
        "# sending a reuqets to a web-site\n",
        "response_not_found = requests.get('https://lse-dsi.github.io/lse-ds105-course-notes/weeks/week12.html')\n",
        "\n",
        "# printing the response \n",
        "print(response_not_found)"
      ]
    },
    {
      "cell_type": "markdown",
      "id": "30a31638-c5dd-437e-b2b0-dc4863cebc5b",
      "metadata": {
        "id": "30a31638-c5dd-437e-b2b0-dc4863cebc5b"
      },
      "source": [
        "---\n",
        "Let's go back to our Google example and explore the headers.\n",
        "\n",
        "---"
      ]
    },
    {
      "cell_type": "code",
      "execution_count": null,
      "id": "62f54d6e-79e4-422b-9376-986d06d2476a",
      "metadata": {
        "id": "62f54d6e-79e4-422b-9376-986d06d2476a"
      },
      "outputs": [],
      "source": [
        "# looking inside the response\n",
        "print(response_google.headers)"
      ]
    },
    {
      "cell_type": "markdown",
      "id": "8dk1lptyi07J",
      "metadata": {
        "id": "8dk1lptyi07J"
      },
      "source": [
        "Convert to a regular python dictionary:\n",
        "\n"
      ]
    },
    {
      "cell_type": "code",
      "execution_count": null,
      "id": "IG9OdUcGiACq",
      "metadata": {
        "id": "IG9OdUcGiACq"
      },
      "outputs": [],
      "source": [
        "dict(response_google.headers)"
      ]
    },
    {
      "cell_type": "markdown",
      "id": "QWB6XKfkjFDA",
      "metadata": {
        "id": "QWB6XKfkjFDA"
      },
      "source": [
        "What else is returned?"
      ]
    },
    {
      "cell_type": "code",
      "execution_count": null,
      "id": "y7YE38lVjHGH",
      "metadata": {
        "id": "y7YE38lVjHGH"
      },
      "outputs": [],
      "source": [
        "response_google.url ## URL"
      ]
    },
    {
      "cell_type": "code",
      "execution_count": null,
      "id": "G5iqw0gUjNiK",
      "metadata": {
        "id": "G5iqw0gUjNiK"
      },
      "outputs": [],
      "source": [
        "response_google.reason"
      ]
    },
    {
      "cell_type": "markdown",
      "id": "f710331b-b898-444e-8e83-c9ea2340d9ab",
      "metadata": {
        "id": "f710331b-b898-444e-8e83-c9ea2340d9ab"
      },
      "source": [
        "### Reading the content\n",
        "\n",
        "Perhaps the most important data you can find out of this response is the `content`. This is what we normally want out of a `response` object: what is in this webpage?\n",
        "\n",
        "What is the **data type** of `response_google.content`?"
      ]
    },
    {
      "cell_type": "code",
      "execution_count": null,
      "id": "vVwYw4zyjvmi",
      "metadata": {
        "id": "vVwYw4zyjvmi"
      },
      "outputs": [],
      "source": [
        "type(response_google.content)"
      ]
    },
    {
      "cell_type": "markdown",
      "id": "uJmNmhB9kSLw",
      "metadata": {
        "id": "uJmNmhB9kSLw"
      },
      "source": [
        "**💡Tip:** We will explore the different data types on [Week 05](https://lse-dsi.github.io/lse-ds105-course-notes/main/syllabus.html).\n",
        "\n",
        "Let's decode these bytes into a string:"
      ]
    },
    {
      "cell_type": "code",
      "execution_count": null,
      "id": "7X21i2Nwjz5W",
      "metadata": {
        "id": "7X21i2Nwjz5W"
      },
      "outputs": [],
      "source": [
        "response_google.content.decode(\"utf-8\")"
      ]
    },
    {
      "cell_type": "markdown",
      "id": "cfy2h3YTkYeb",
      "metadata": {
        "id": "cfy2h3YTkYeb"
      },
      "source": [
        "Double check it is a string:"
      ]
    },
    {
      "cell_type": "code",
      "execution_count": null,
      "id": "JyjQqY5skVoE",
      "metadata": {
        "id": "JyjQqY5skVoE"
      },
      "outputs": [],
      "source": [
        "type(response_google.content.decode(\"utf-8\"))"
      ]
    },
    {
      "cell_type": "markdown",
      "id": "AeivEmkFknG3",
      "metadata": {
        "id": "AeivEmkFknG3"
      },
      "source": [
        "Let's print the first 2000 characters of that string:"
      ]
    },
    {
      "cell_type": "code",
      "execution_count": null,
      "id": "d7mBeETmkaVI",
      "metadata": {
        "id": "d7mBeETmkaVI"
      },
      "outputs": [],
      "source": [
        "print(response_google.content.decode(\"utf-8\")[0:2000])"
      ]
    },
    {
      "cell_type": "markdown",
      "id": "pJmcCdKZlEUA",
      "metadata": {
        "id": "pJmcCdKZlEUA"
      },
      "source": [
        "This is the same thing you would get from using the **INSPECT** of your browser!"
      ]
    },
    {
      "cell_type": "markdown",
      "id": "PbeDuFToloQ_",
      "metadata": {
        "id": "PbeDuFToloQ_"
      },
      "source": [
        "## _Parse_ the content\n",
        "\n",
        "We don't want just to read this HTML, we want to **extract** data from it in a structured way.\n",
        "\n",
        "The [BeautifulSoup](https://www.crummy.com/software/BeautifulSoup/bs4/doc/) is extremely useful for this task."
      ]
    },
    {
      "cell_type": "code",
      "execution_count": null,
      "id": "f416ae3d-ce3c-4a9f-925c-15bc5bd9be21",
      "metadata": {
        "collapsed": true,
        "id": "f416ae3d-ce3c-4a9f-925c-15bc5bd9be21",
        "jupyter": {
          "outputs_hidden": true
        },
        "tags": []
      },
      "outputs": [],
      "source": [
        "# parsing the response\n",
        "soup = BeautifulSoup(response_google.content)\n",
        "\n",
        "# looking inside the soup (RETURNS A VERY LARGE TEXT)\n",
        "soup"
      ]
    },
    {
      "cell_type": "markdown",
      "id": "02173568-5d1f-4785-8e58-64ea0babf0f7",
      "metadata": {
        "id": "02173568-5d1f-4785-8e58-64ea0babf0f7"
      },
      "source": [
        "## Extract one `<h2>` header"
      ]
    },
    {
      "cell_type": "code",
      "execution_count": null,
      "id": "74c391d2-d21f-4fcc-9d92-01e566b2b6b7",
      "metadata": {
        "id": "74c391d2-d21f-4fcc-9d92-01e566b2b6b7"
      },
      "outputs": [],
      "source": [
        "# extract the first h2 header\n",
        "print(soup.find('h2'))"
      ]
    },
    {
      "cell_type": "code",
      "execution_count": null,
      "id": "91d0416d-36f6-41a1-bf58-14c9f5735a5f",
      "metadata": {
        "id": "91d0416d-36f6-41a1-bf58-14c9f5735a5f"
      },
      "outputs": [],
      "source": [
        "# get text from it\n",
        "print(soup.find('h2').get_text())"
      ]
    },
    {
      "cell_type": "markdown",
      "id": "72b1c871-a71c-447b-9a67-01ed1b363d30",
      "metadata": {
        "id": "72b1c871-a71c-447b-9a67-01ed1b363d30"
      },
      "source": [
        "## Extract all the `<h2>` headers"
      ]
    },
    {
      "cell_type": "code",
      "execution_count": null,
      "id": "4638b1cd-2417-4231-803f-09d6d82b83b7",
      "metadata": {
        "id": "4638b1cd-2417-4231-803f-09d6d82b83b7"
      },
      "outputs": [],
      "source": [
        "# extract all h2 headers\n",
        "print(soup.find_all('h2'))"
      ]
    },
    {
      "cell_type": "markdown",
      "id": "5OrvRJCQmgEL",
      "metadata": {
        "id": "5OrvRJCQmgEL"
      },
      "source": [
        "How many `<h2>` headers are there in total?"
      ]
    },
    {
      "cell_type": "code",
      "execution_count": null,
      "id": "Tgp0HfiTmb-K",
      "metadata": {
        "id": "Tgp0HfiTmb-K"
      },
      "outputs": [],
      "source": [
        "len(soup.find_all('h2'))"
      ]
    },
    {
      "cell_type": "code",
      "execution_count": null,
      "id": "8c4e3506-b8ee-430b-8dff-8a7213830845",
      "metadata": {
        "id": "8c4e3506-b8ee-430b-8dff-8a7213830845"
      },
      "outputs": [],
      "source": [
        "# extract text from each of them\n",
        "headers = soup.find_all('h2')\n",
        "\n",
        "for head in headers:\n",
        "    print(head.get_text().strip())"
      ]
    },
    {
      "cell_type": "markdown",
      "id": "5f6607d8-55d7-4054-a018-344af62e1ad7",
      "metadata": {
        "id": "5f6607d8-55d7-4054-a018-344af62e1ad7"
      },
      "source": [
        "## Extracting other attributes\n",
        "\n",
        "Let's extract links to key terms at the bottom of the page"
      ]
    },
    {
      "cell_type": "code",
      "execution_count": null,
      "id": "680b9287-7c5c-4955-a0b6-e04c51361f3d",
      "metadata": {
        "id": "680b9287-7c5c-4955-a0b6-e04c51361f3d"
      },
      "outputs": [],
      "source": [
        "# the whole table by attributes\n",
        "soup.find('aside', attrs={'class':'key-term'}).find_all('a')"
      ]
    },
    {
      "cell_type": "code",
      "execution_count": null,
      "id": "88d2867b-2e1a-4cd9-af83-e6312afa1414",
      "metadata": {
        "id": "88d2867b-2e1a-4cd9-af83-e6312afa1414"
      },
      "outputs": [],
      "source": [
        "# extract one link \n",
        "soup.find('aside', attrs={'class':'key-term'}).find_all('a')[0].get('href')"
      ]
    },
    {
      "cell_type": "code",
      "execution_count": null,
      "id": "9f1a8590-150b-4b97-8025-2ff3d7968bfb",
      "metadata": {
        "id": "9f1a8590-150b-4b97-8025-2ff3d7968bfb"
      },
      "outputs": [],
      "source": [
        "# extract links one by one\n",
        "all_terms = soup.find('aside', attrs={'class':'key-term'}).find_all('a')\n",
        "\n",
        "for term in all_terms:\n",
        "    print(term.get('href'))"
      ]
    },
    {
      "cell_type": "code",
      "execution_count": null,
      "id": "dda0e18f-3a8a-4538-8f57-5d0815abf497",
      "metadata": {
        "id": "dda0e18f-3a8a-4538-8f57-5d0815abf497"
      },
      "outputs": [],
      "source": [
        "# maybe create a full link?\n",
        "for term in all_terms:\n",
        "    print(\"https://developers.google.com\" + term.get('href'))"
      ]
    },
    {
      "cell_type": "markdown",
      "id": "e6157be1-415d-4e80-91c5-d25f00019c8a",
      "metadata": {
        "id": "e6157be1-415d-4e80-91c5-d25f00019c8a"
      },
      "source": [
        "# APIs \n",
        "\n",
        "In this part we will explore one of the web-APIs and see how to send requests and get responses. \n",
        "\n",
        "We will explore the [Frankfurter API](https://www.frankfurter.app/docs/) that contains information on currency rates for a lot of different currencies. "
      ]
    },
    {
      "cell_type": "code",
      "execution_count": null,
      "id": "f11310e8-0ef9-4fe0-84e8-05332e5c898b",
      "metadata": {
        "id": "f11310e8-0ef9-4fe0-84e8-05332e5c898b"
      },
      "outputs": [],
      "source": [
        "# save the base url\n",
        "base_url = 'https://api.frankfurter.app'"
      ]
    },
    {
      "cell_type": "code",
      "execution_count": null,
      "id": "636d7a4b-8016-42eb-b68c-f9d3ec9f1131",
      "metadata": {
        "id": "636d7a4b-8016-42eb-b68c-f9d3ec9f1131"
      },
      "outputs": [],
      "source": [
        "# send a request to the API of the latest \n",
        "API_response = requests.get(base_url + '/latest')\n",
        "\n",
        "# print the response code\n",
        "print(API_response)\n",
        "\n",
        "# inspect the content\n",
        "API_response.json()"
      ]
    },
    {
      "cell_type": "markdown",
      "id": "1b38d49c-0a9f-4a57-a95a-d71a9a63a166",
      "metadata": {
        "id": "1b38d49c-0a9f-4a57-a95a-d71a9a63a166"
      },
      "source": [
        "### Adding parameters\n",
        "\n",
        "Now let's add more request parameters."
      ]
    },
    {
      "cell_type": "code",
      "execution_count": null,
      "id": "03ddb784-bf1f-42bd-adc6-cc4db94811fa",
      "metadata": {
        "id": "03ddb784-bf1f-42bd-adc6-cc4db94811fa"
      },
      "outputs": [],
      "source": [
        "# creating parameters\n",
        "params = {\"from\": \"USD\", \n",
        "         \"to\": \"GBP\"}\n",
        "\n",
        "# run the query with the parameters\n",
        "API_response = requests.get(base_url + '/latest', params=params)\n",
        "\n",
        "# inspect the content\n",
        "API_response.json()"
      ]
    },
    {
      "cell_type": "markdown",
      "id": "2edeac3b-919b-4690-ad39-e993132632b4",
      "metadata": {
        "id": "2edeac3b-919b-4690-ad39-e993132632b4"
      },
      "source": [
        "### Maybe even more parameters?"
      ]
    },
    {
      "cell_type": "code",
      "execution_count": null,
      "id": "d2d90875-9dc8-41d3-aa77-70814939de70",
      "metadata": {
        "id": "d2d90875-9dc8-41d3-aa77-70814939de70"
      },
      "outputs": [],
      "source": [
        "# creating parameters\n",
        "params = {\"from\": \"USD\", \n",
        "         \"to\": \"GBP,JPY\"}\n",
        "\n",
        "# run the query with the parameters\n",
        "API_response = requests.get(base_url + '/2020-01-01..2020-01-31', params=params)\n",
        "\n",
        "# inspect the content\n",
        "API_response.json()"
      ]
    },
    {
      "cell_type": "markdown",
      "id": "ZvBpy2m4mxMX",
      "metadata": {
        "id": "ZvBpy2m4mxMX"
      },
      "source": [
        "# What now?\n",
        "\n",
        "- **(Practice)** You can try to do [this week's lab exercises](https://lse-dsi.github.io/lse-ds105-course-notes/weeks/week04/lab.html) by yourself before you attend the class on Friday. Try to reuse some of what you saw in this notebook.\n",
        "- **(Challenge)** Write a script to parse [Amazon.co.uk's Today's Deals page](https://www.amazon.co.uk/deals?ref_=nav_cs_gb) and return a list with the names of all products listed in the first page\n",
        "- **(Challenge)** Write a script to parse [BBC home page](https://www.bbc.co.uk/) and get a list of the main headlines."
      ]
    }
  ],
  "metadata": {
    "colab": {
      "collapsed_sections": [],
      "provenance": [],
      "toc_visible": true
    },
    "kernelspec": {
      "display_name": "Python 3 (ipykernel)",
      "language": "python",
      "name": "python3"
    },
    "language_info": {
      "codemirror_mode": {
        "name": "ipython",
        "version": 3
      },
      "file_extension": ".py",
      "mimetype": "text/x-python",
      "name": "python",
      "nbconvert_exporter": "python",
      "pygments_lexer": "ipython3",
      "version": "3.9.12"
    }
  },
  "nbformat": 4,
  "nbformat_minor": 5
}
