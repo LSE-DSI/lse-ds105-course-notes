{
  "cells": [
    {
      "cell_type": "raw",
      "metadata": {},
      "source": [
        "---\n",
        "subtitle: \"DS105 Data for Data Science :desktop_computer: :juggling_person:\"\n",
        "title: \"🗓️ Week 03 - Part I <br/> The Cloud\"\n",
        "author: Dr. [Jon Cardoso Silva](https://www.lse.ac.uk/DSI/People/Jonathan-Cardoso-Silva)\n",
        "institute: '[LSE Data Science Institute](https://twitter.com/lsedatascience)'\n",
        "date: 11 October 2022\n",
        "date-meta: 11 October 2022\n",
        "toc: true\n",
        "toc-depth: 1\n",
        "toc-title: \"What we will cover today\"\n",
        "center-title-slide: false\n",
        "from: markdown+emoji\n",
        "mermaid-format: svg\n",
        "format:\n",
        "  revealjs: \n",
        "    fig-responsive: true\n",
        "    theme: simple\n",
        "    slide-number: true\n",
        "    mouse-wheel: false\n",
        "    chalkboard: \n",
        "      buttons: true\n",
        "    preview-links: auto\n",
        "    logo: /figures/logos/LSE Data Science Institute.png\n",
        "    css: /css/styles_slides.css\n",
        "    footer: 'DS105 - Data for Data Science :desktop_computer: :juggling_person:'\n",
        "---"
      ],
      "id": "0c5edb90"
    },
    {
      "cell_type": "markdown",
      "metadata": {},
      "source": [
        "# What is the cloud? {.smaller background-color=\"#FBF7E8\"}\n",
        "\n",
        "\n",
        "```{css, echo=FALSE}\n",
        ".color-slide, \n",
        ".color-slide h1 {\n",
        " color: #C2C5E9;\n",
        "}\n",
        "```\n",
        "\n",
        "\n",
        "::: columns\n",
        "\n",
        "::: {.column width=\"50%\"}\n",
        "![](/figures/week03/edited_dalee_futuristic_computers_hidden_inside_clouds_in_the_style_of_Studio_Ghibli.png)\n",
        ":::\n",
        "\n",
        "\n",
        "::: {.column width=\"50%\"}\n",
        ":::\n",
        "\n",
        ":::\n",
        "\n",
        "::: footer\n",
        "\n",
        "::: {style=\"font-size:0.90em;\"}\n",
        "Image created with the [DALL·E](https://openai.com/blog/dall-e/) algorithm using the prompt: *'futuristic computers hidden inside clouds, in the style of Studio Ghibli'* 🤓\n",
        ":::\n",
        "\n",
        ":::"
      ],
      "id": "252bc045"
    }
  ],
  "metadata": {
    "kernelspec": {
      "name": "python3",
      "language": "python",
      "display_name": "Python 3 (ipykernel)"
    }
  },
  "nbformat": 4,
  "nbformat_minor": 5
}